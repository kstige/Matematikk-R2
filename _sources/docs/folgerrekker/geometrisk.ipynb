{
 "cells": [
  {
   "cell_type": "markdown",
   "metadata": {},
   "source": [
    "# Geometriske rekker\n",
    "\n",
    "```{admonition} Læringsutbytte\n",
    ":class: utbytte, dropdown\n",
    "I dette temaet arbeider vi med kompetansemålene:\n",
    "\n",
    " * utforske egenskaper ved ulike rekker og gjøre rede for praktiske anvendelser av egenskaper ved rekker\n",
    " * utforske rekursive sammenhenger ved å bruke programmering og presentere egne framgangsmåter\n",
    "\n",
    "Etter å ha arbeidet med temaet, skal du:\n",
    " \n",
    " * forklare hva vi mener med en geometrisk rekke\n",
    " * kunne og bruke rekursiv og eksplisitt formel for ledd i geometriske rekker\n",
    " * utlede og bruke formelen for delsummene i aritmetiske rekker\n",
    " * forklare hva vi mener med at ei rekke konvergerer\n",
    " * avgjøre om ei uendelig geometrisk rekker konvergerer\n",
    " * finne konvergensområdet til geometriske rekker med variable kvotienter\n",
    " * kjenne til praktiske anvendelser av geometriske rekker\n",
    "```\n"
   ]
  }
 ],
 "metadata": {
  "language_info": {
   "name": "python"
  }
 },
 "nbformat": 4,
 "nbformat_minor": 2
}
