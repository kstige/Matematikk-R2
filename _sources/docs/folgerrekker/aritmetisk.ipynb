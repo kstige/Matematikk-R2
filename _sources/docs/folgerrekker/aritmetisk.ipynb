{
 "cells": [
  {
   "cell_type": "markdown",
   "metadata": {},
   "source": [
    "# Aritmetiske rekker\n",
    "\n",
    "```{admonition} Læringsutbytte\n",
    ":class: utbytte, dropdown\n",
    "I dette temaet arbeider vi med kompetansemålene:\n",
    "\n",
    " * utforske egenskaper ved ulike rekker og gjøre rede for praktiske anvendelser av egenskaper ved rekker\n",
    " * utforske rekursive sammenhenger ved å bruke programmering og presentere egne framgangsmåter\n",
    "\n",
    "Etter å ha arbeidet med temaet, skal du:\n",
    " \n",
    " * forklare hva vi mener med en aritmetisk rekke\n",
    " * kunne og bruke rekursiv og eksplisitt formel for ledd i aritmetiske rekker\n",
    " * utlede og bruke formelen for delsummene i aritmetiske rekker\n",
    " * kjenne til anvendelser av aritmetiske rekker\n",
    "```"
   ]
  }
 ],
 "metadata": {
  "language_info": {
   "name": "python"
  }
 },
 "nbformat": 4,
 "nbformat_minor": 2
}
