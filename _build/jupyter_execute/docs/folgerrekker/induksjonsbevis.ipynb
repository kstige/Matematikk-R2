{
 "cells": [
  {
   "cell_type": "markdown",
   "metadata": {},
   "source": [
    "# Induksjonsbevis\n",
    "\n",
    "```{admonition} Læringsutbytte\n",
    ":class: utbytte, dropdown\n",
    "I dette temaet arbeider vi med kompetansemålene:\n",
    "\n",
    " * utforske egenskaper ved ulike rekker og gjøre rede for praktiske anvendelser av egenskaper ved rekker\n",
    " * analysere og forstå matematiske bevis, forklare de bærende ideene i et matematisk bevis og utvikle egne bevis\n",
    "\n",
    "Etter å ha arbeidet med temaet, skal du:\n",
    " \n",
    " * vite hva vi mener med et matematisk bevis\n",
    " * kjenne til direkte bevis, kontrapositive bevis og motsigelsesbevis\n",
    " * forstå prinsippet bak og utføre enkle induksjonsbevis\n",
    "```"
   ]
  }
 ],
 "metadata": {
  "language_info": {
   "name": "python"
  }
 },
 "nbformat": 4,
 "nbformat_minor": 2
}