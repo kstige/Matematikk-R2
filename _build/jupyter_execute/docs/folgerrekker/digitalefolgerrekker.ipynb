{
 "cells": [
  {
   "cell_type": "markdown",
   "metadata": {},
   "source": [
    "# Følger og rekker digitalt\n",
    "\n",
    "```{admonition} Læringsutbytte\n",
    ":class: utbytte, dropdown\n",
    "I dette temaet arbeider vi med kompetansemålene:\n",
    "\n",
    " * utforske egenskaper ved ulike rekker og gjøre rede for praktiske anvendelser av egenskaper ved rekker\n",
    " * utforske rekursive sammenhenger ved å bruke programmering og presentere egne framgangsmåter\n",
    "\n",
    "Etter å ha arbeidet med temaet, skal du:\n",
    " \n",
    " * bruke for- og while-løkker for å skrive ut ledd og summer i følger og rekker\n",
    " * bruke CAS til å finne ledd og summer i følger og rekker\n",
    " * bruke regresjon til å finne eksplisitte formler\n",
    "```"
   ]
  },
  {
   "cell_type": "markdown",
   "metadata": {},
   "source": [
    "## GeoGebra"
   ]
  },
  {
   "cell_type": "markdown",
   "metadata": {},
   "source": [
    "## Programmering"
   ]
  }
 ],
 "metadata": {
  "language_info": {
   "name": "python"
  }
 },
 "nbformat": 4,
 "nbformat_minor": 2
}